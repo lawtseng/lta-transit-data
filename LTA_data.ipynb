{
 "cells": [
  {
   "cell_type": "markdown",
   "metadata": {},
   "source": [
    "### Download Singapore Public Transit Data from LTA DataMall"
   ]
  },
  {
   "cell_type": "markdown",
   "metadata": {},
   "source": [
    "Initiate the data collector to collect public transit data. Before the intiation, kindly type in the account key, which can be obtained from LTA DataMall website."
   ]
  },
  {
   "cell_type": "code",
   "execution_count": null,
   "metadata": {},
   "outputs": [],
   "source": [
    "from retrieve_lta_data import DataCollector\n",
    "\n",
    "account_key = '\"account_key\"' # replace with your own account key\n",
    "data_collector = DataCollector(account_key)"
   ]
  },
  {
   "cell_type": "markdown",
   "metadata": {},
   "source": [
    "Download all public transit data altogether. The datasets include bus service lines, bus stops, bus routes, and transit passenger volume for bus and train at each station and between two stations (origin-destination)."
   ]
  },
  {
   "cell_type": "code",
   "execution_count": null,
   "metadata": {},
   "outputs": [],
   "source": [
    "data_collector.collect_transit_data()"
   ]
  },
  {
   "cell_type": "markdown",
   "metadata": {},
   "source": [
    "LTA DataMall allows users to download data up to three months ago. To retrieve those data, please input the month and then download the passenger volume. "
   ]
  },
  {
   "cell_type": "code",
   "execution_count": null,
   "metadata": {},
   "outputs": [],
   "source": [
    "month = '202501'\n",
    "data_collector.get_pt_data('bus_node', date = month)\n",
    "data_collector.get_pt_data('bus_od', date = month)\n",
    "data_collector.get_pt_data('train_node', date = month)\n",
    "data_collector.get_pt_data('train_od', date = month)"
   ]
  },
  {
   "cell_type": "markdown",
   "metadata": {},
   "source": [
    "Download monthly bus datasets."
   ]
  },
  {
   "cell_type": "code",
   "execution_count": null,
   "metadata": {},
   "outputs": [],
   "source": [
    "data_collector.get_bus_data('service')\n",
    "data_collector.get_bus_data('stop')\n",
    "data_collector.get_bus_data('route')"
   ]
  },
  {
   "cell_type": "code",
   "execution_count": null,
   "metadata": {},
   "outputs": [],
   "source": [
    "# Geospatial Whole Island\n",
    "data_collector.get_geospatial_data('train_station')"
   ]
  }
 ],
 "metadata": {
  "kernelspec": {
   "display_name": "myenv",
   "language": "python",
   "name": "python3"
  },
  "language_info": {
   "codemirror_mode": {
    "name": "ipython",
    "version": 3
   },
   "file_extension": ".py",
   "mimetype": "text/x-python",
   "name": "python",
   "nbconvert_exporter": "python",
   "pygments_lexer": "ipython3",
   "version": "3.12.4"
  }
 },
 "nbformat": 4,
 "nbformat_minor": 2
}
